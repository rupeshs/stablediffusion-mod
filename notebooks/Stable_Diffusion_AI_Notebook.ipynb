{
  "nbformat": 4,
  "nbformat_minor": 0,
  "metadata": {
    "colab": {
      "provenance": [],
      "collapsed_sections": [],
      "private_outputs": true
    },
    "kernelspec": {
      "name": "python3",
      "display_name": "Python 3"
    },
    "language_info": {
      "name": "python"
    },
    "accelerator": "GPU",
    "gpuClass": "standard"
  },
  "cells": [
    {
      "cell_type": "markdown",
      "source": [
        "# Stable Diffusion AI Notebook (Release 1.13)\n",
        "\n",
        "<img src=\"https://user-images.githubusercontent.com/60411196/186547976-d9de378a-9de8-4201-9c25-c057a9c59bad.jpeg\" alt=\"stable-diffusion-ai\" width=\"170px\"/> <br>\n",
        "#### Instructions:\n",
        "1. Execute each cell in order to mount a Dream bot and create images from text. <br>\n",
        "2. Once cells 1-8 were run correctly you'll be executing a terminal in cell #9, you'll need to enter `python scripts/dream.py` command to run Dream bot.<br> \n",
        "3. After launching dream bot, you'll see: <br> `Dream > ` in terminal. <br> Insert a command, eg. `Dream > Astronaut floating in a distant galaxy`, or type `-h` for help.\n",
        "3. After completion you'll see your generated images in path `stable-diffusion/outputs/img-samples/`, you can also show last generated images in cell #10.\n",
        "4. To quit Dream bot use `q` command. <br> \n",
        "---\n",
        "<font color=\"red\">Note:</font> It takes some time to load, but after installing all dependencies you can use the bot all time you want while colab instance is up. <br>\n",
        "<font color=\"red\">Requirements:</font> For this notebook to work you need to have [Stable-Diffusion-v-1-4](https://huggingface.co/CompVis/stable-diffusion-v-1-4-original) stored in your Google Drive, it will be needed in cell #7\n",
        "##### For more details visit Github repository: [lstein/stable-diffusion](https://github.com/lstein/stable-diffusion)\n",
        "---\n"
      ],
      "metadata": {
        "id": "ycYWcsEKc6w7"
      }
    },
    {
      "cell_type": "markdown",
      "source": [
        "## ◢ Installation"
      ],
      "metadata": {
        "id": "dr32VLxlnouf"
      }
    },
    {
      "cell_type": "code",
      "source": [
        "#@title 1. Check current GPU assigned\n",
        "!nvidia-smi -L\n",
        "!nvidia-smi"
      ],
      "metadata": {
        "cellView": "form",
        "id": "a2Z5Qu_o8VtQ"
      },
      "execution_count": null,
      "outputs": []
    },
    {
      "cell_type": "code",
      "execution_count": null,
      "metadata": {
        "cellView": "form",
        "id": "vbI9ZsQHzjqF"
      },
      "outputs": [],
      "source": [
        "#@title 2. Download stable-diffusion Repository\n",
        "from os.path import exists\n",
        "\n",
        "if exists(\"/content/stable-diffusion/\")==True:\n",
        "  %cd /content/stable-diffusion/\n",
        "  print(\"Already downloaded repo\")\n",
        "else:\n",
        "  !git clone --quiet https://github.com/lstein/stable-diffusion.git # Original repo\n",
        "  %cd /content/stable-diffusion/\n",
        "  !git checkout --quiet tags/release-1.13"
      ]
    },
    {
      "cell_type": "code",
      "source": [
        "#@title 3. Install dependencies\n",
        "import gc\n",
        "\n",
        "if exists(\"/content/stable-diffusion/requirements-colab.txt\")==True:\n",
        "  %cd /content/stable-diffusion/\n",
        "  print(\"Already downloaded requirements file\")\n",
        "else:\n",
        "  !wget https://raw.githubusercontent.com/lstein/stable-diffusion/development/requirements-colab.txt\n",
        "!pip install colab-xterm\n",
        "!pip install -r requirements-colab.txt\n",
        "gc.collect()"
      ],
      "metadata": {
        "cellView": "form",
        "id": "QbXcGXYEFSNB"
      },
      "execution_count": null,
      "outputs": []
    },
    {
      "cell_type": "code",
      "source": [
        "#@title 4. Load small ML models required\n",
        "%cd /content/stable-diffusion/\n",
        "!python scripts/preload_models.py\n",
        "gc.collect()"
      ],
      "metadata": {
        "cellView": "form",
        "id": "ChIDWxLVHGGJ"
      },
      "execution_count": null,
      "outputs": []
    },
    {
      "cell_type": "code",
      "source": [
        "#@title 5. Restart Runtime\n",
        "exit()"
      ],
      "metadata": {
        "cellView": "form",
        "id": "8rSMhgnAttQa"
      },
      "execution_count": null,
      "outputs": []
    },
    {
      "cell_type": "markdown",
      "source": [
        "## ◢ Configuration"
      ],
      "metadata": {
        "id": "795x1tMoo8b1"
      }
    },
    {
      "cell_type": "code",
      "source": [
        "#@title 6. Mount google Drive\n",
        "from google.colab import drive\n",
        "drive.mount('/content/drive')"
      ],
      "metadata": {
        "cellView": "form",
        "id": "YEWPV-sF1RDM"
      },
      "execution_count": null,
      "outputs": []
    },
    {
      "cell_type": "code",
      "source": [
        "#@title 7. Drive Path to model\n",
        "#@markdown Path should start with /content/drive/path-to-your-file <br>\n",
        "#@markdown <font color=\"red\">Note:</font> Model should be downloaded from https://huggingface.co <br>\n",
        "#@markdown Lastest release: [Stable-Diffusion-v-1-4](https://huggingface.co/CompVis/stable-diffusion-v-1-4-original)\n",
        "from os.path import exists\n",
        "\n",
        "model_path = \"\" #@param {type:\"string\"}\n",
        "if exists(model_path)==True:\n",
        "  print(\"✅ Valid directory\")\n",
        "else: \n",
        "  print(\"❌ File doesn't exist\")"
      ],
      "metadata": {
        "cellView": "form",
        "id": "zRTJeZ461WGu"
      },
      "execution_count": null,
      "outputs": []
    },
    {
      "cell_type": "code",
      "source": [
        "#@title 8. Symlink to model\n",
        "\n",
        "from os.path import exists\n",
        "import os \n",
        "\n",
        "# Folder creation if it doesn't exist\n",
        "if exists(\"/content/stable-diffusion/models/ldm/stable-diffusion-v1\")==True:\n",
        "  print(\"❗ Dir stable-diffusion-v1 already exists\")\n",
        "else:\n",
        "  %mkdir /content/stable-diffusion/models/ldm/stable-diffusion-v1\n",
        "  print(\"✅ Dir stable-diffusion-v1 created\")\n",
        "\n",
        "# Symbolic link if it doesn't exist\n",
        "if exists(\"/content/stable-diffusion/models/ldm/stable-diffusion-v1/model.ckpt\")==True:\n",
        "  print(\"❗ Symlink already created\")\n",
        "else: \n",
        "  src = model_path\n",
        "  dst = '/content/stable-diffusion/models/ldm/stable-diffusion-v1/model.ckpt'\n",
        "  os.symlink(src, dst) \n",
        "  print(\"✅ Symbolic link created successfully\")"
      ],
      "metadata": {
        "id": "UY-NNz4I8_aG",
        "cellView": "form"
      },
      "execution_count": null,
      "outputs": []
    },
    {
      "cell_type": "markdown",
      "source": [
        "## ◢ Execution"
      ],
      "metadata": {
        "id": "Mc28N0_NrCQH"
      }
    },
    {
      "cell_type": "code",
      "source": [
        "#@title 9. Run Terminal and Execute Dream bot\n",
        "#@markdown <font color=\"blue\">Steps:</font> <br>\n",
        "#@markdown 1. Execute command `python scripts/dream.py` to run dream bot.<br>\n",
        "#@markdown 2. After initialized you'll see `Dream>` line.<br>\n",
        "#@markdown 3. Example text: `Astronaut floating in a distant galaxy` <br>\n",
        "#@markdown 4. To quit Dream bot use: `q` command.<br>\n",
        "\n",
        "import gc\n",
        "%cd /content/stable-diffusion/\n",
        "%load_ext colabxterm\n",
        "%xterm\n",
        "gc.collect()"
      ],
      "metadata": {
        "id": "ir4hCrMIuUpl",
        "cellView": "form"
      },
      "execution_count": null,
      "outputs": []
    },
    {
      "cell_type": "code",
      "source": [
        "#@title 10. Show the last 15 generated images\n",
        "import gc\n",
        "import glob\n",
        "import matplotlib.pyplot as plt\n",
        "import matplotlib.image as mpimg\n",
        "%matplotlib inline\n",
        "\n",
        "images = []\n",
        "for img_path in sorted(glob.glob('/content/stable-diffusion/outputs/img-samples/*.png'), reverse=True):\n",
        "    images.append(mpimg.imread(img_path))\n",
        "\n",
        "images = images[:15] \n",
        "\n",
        "plt.figure(figsize=(20,10))\n",
        "\n",
        "columns = 5\n",
        "for i, image in enumerate(images):\n",
        "    ax = plt.subplot(len(images) / columns + 1, columns, i + 1)\n",
        "    ax.axes.xaxis.set_visible(False)\n",
        "    ax.axes.yaxis.set_visible(False)\n",
        "    ax.axis('off')\n",
        "    plt.imshow(image)\n",
        "    gc.collect()\n",
        "\n"
      ],
      "metadata": {
        "cellView": "form",
        "id": "qnLohSHmKoGk"
      },
      "execution_count": null,
      "outputs": []
    }
  ]
}
